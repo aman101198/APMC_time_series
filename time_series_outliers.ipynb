{
 "cells": [
  {
   "cell_type": "code",
   "execution_count": 1,
   "metadata": {},
   "outputs": [],
   "source": [
    "#importing the necessary libraries\n",
    "import numpy as np\n",
    "import pandas as pd\n",
    "import matplotlib.pyplot as plt"
   ]
  },
  {
   "cell_type": "code",
   "execution_count": 2,
   "metadata": {},
   "outputs": [
    {
     "data": {
      "text/html": [
       "<div>\n",
       "<style scoped>\n",
       "    .dataframe tbody tr th:only-of-type {\n",
       "        vertical-align: middle;\n",
       "    }\n",
       "\n",
       "    .dataframe tbody tr th {\n",
       "        vertical-align: top;\n",
       "    }\n",
       "\n",
       "    .dataframe thead th {\n",
       "        text-align: right;\n",
       "    }\n",
       "</style>\n",
       "<table border=\"1\" class=\"dataframe\">\n",
       "  <thead>\n",
       "    <tr style=\"text-align: right;\">\n",
       "      <th></th>\n",
       "      <th>commodity</th>\n",
       "      <th>year</th>\n",
       "      <th>Type</th>\n",
       "      <th>msprice</th>\n",
       "      <th>msp_filter</th>\n",
       "    </tr>\n",
       "  </thead>\n",
       "  <tbody>\n",
       "    <tr>\n",
       "      <th>0</th>\n",
       "      <td>PADDY-UNHUSKED</td>\n",
       "      <td>2012</td>\n",
       "      <td>Kharif Crops</td>\n",
       "      <td>1250.0</td>\n",
       "      <td>1</td>\n",
       "    </tr>\n",
       "    <tr>\n",
       "      <th>1</th>\n",
       "      <td>RICE(PADDY-HUS)</td>\n",
       "      <td>2012</td>\n",
       "      <td>Kharif Crops</td>\n",
       "      <td>1280.0</td>\n",
       "      <td>1</td>\n",
       "    </tr>\n",
       "    <tr>\n",
       "      <th>2</th>\n",
       "      <td>Jowar_Hybrid</td>\n",
       "      <td>2012</td>\n",
       "      <td>Kharif Crops</td>\n",
       "      <td>1500.0</td>\n",
       "      <td>1</td>\n",
       "    </tr>\n",
       "    <tr>\n",
       "      <th>3</th>\n",
       "      <td>SORGUM(JAWAR)</td>\n",
       "      <td>2012</td>\n",
       "      <td>Kharif Crops</td>\n",
       "      <td>1520.0</td>\n",
       "      <td>1</td>\n",
       "    </tr>\n",
       "    <tr>\n",
       "      <th>4</th>\n",
       "      <td>BAJRI</td>\n",
       "      <td>2012</td>\n",
       "      <td>Kharif Crops</td>\n",
       "      <td>1175.0</td>\n",
       "      <td>1</td>\n",
       "    </tr>\n",
       "  </tbody>\n",
       "</table>\n",
       "</div>"
      ],
      "text/plain": [
       "         commodity  year          Type  msprice  msp_filter\n",
       "0   PADDY-UNHUSKED  2012  Kharif Crops   1250.0           1\n",
       "1  RICE(PADDY-HUS)  2012  Kharif Crops   1280.0           1\n",
       "2     Jowar_Hybrid  2012  Kharif Crops   1500.0           1\n",
       "3    SORGUM(JAWAR)  2012  Kharif Crops   1520.0           1\n",
       "4            BAJRI  2012  Kharif Crops   1175.0           1"
      ]
     },
     "execution_count": 2,
     "metadata": {},
     "output_type": "execute_result"
    }
   ],
   "source": [
    "#importing the MSP dataset\n",
    "msp_mandi = pd.read_csv('CMO_MSP_Mandi.csv')\n",
    "msp_mandi.head()"
   ]
  },
  {
   "cell_type": "code",
   "execution_count": 3,
   "metadata": {},
   "outputs": [
    {
     "data": {
      "text/plain": [
       "WHEAT(HUSKED)             5\n",
       "GR.NUT KERNELS            5\n",
       "Soyabean_Black            5\n",
       "SAFFLOWER                 5\n",
       "Copra (Ball)_Yellow       5\n",
       "Toria_Yellow              5\n",
       "SOYABEAN                  5\n",
       "BARLI                     5\n",
       "SESAMUM                   5\n",
       "NIGER-SEED                5\n",
       "Jowar_Hybrid              5\n",
       "Ragi_Maldandi             5\n",
       "Gram_Yellow               5\n",
       "WHEAT(UNHUSKED)           5\n",
       "SPILT GERRN GRAM          5\n",
       "PADDY-UNHUSKED            5\n",
       "BAJRI                     5\n",
       "COTTON                    5\n",
       "SPLIT BLACK GRAM          5\n",
       "SUNFLOWER                 5\n",
       "MUSTARD                   5\n",
       "PIGEON PEA (TUR)          5\n",
       "Copra (Milling)_Yellow    5\n",
       "SORGUM(JAWAR)             5\n",
       "Jute_Yellow               5\n",
       "COCONUT                   5\n",
       "Masur_Yellow              5\n",
       "RICE(PADDY-HUS)           5\n",
       "MAIZE                     5\n",
       "Cotton_Long Staple        5\n",
       "SUGAR-CANE                4\n",
       "SUGARCANE                 1\n",
       "Name: commodity, dtype: int64"
      ]
     },
     "execution_count": 3,
     "metadata": {},
     "output_type": "execute_result"
    }
   ],
   "source": [
    "#This shows us the types of each crops and their counts \n",
    "msp_mandi.commodity.value_counts()"
   ]
  },
  {
   "cell_type": "code",
   "execution_count": 4,
   "metadata": {},
   "outputs": [
    {
     "data": {
      "text/plain": [
       "WHEAT(HUSKED)             5\n",
       "GR.NUT KERNELS            5\n",
       "Soyabean_Black            5\n",
       "SAFFLOWER                 5\n",
       "Copra (Ball)_Yellow       5\n",
       "Toria_Yellow              5\n",
       "SOYABEAN                  5\n",
       "BARLI                     5\n",
       "SESAMUM                   5\n",
       "NIGER-SEED                5\n",
       "Jowar_Hybrid              5\n",
       "Ragi_Maldandi             5\n",
       "Gram_Yellow               5\n",
       "WHEAT(UNHUSKED)           5\n",
       "PADDY-UNHUSKED            5\n",
       "BAJRI                     5\n",
       "SPILT GERRN GRAM          5\n",
       "COTTON                    5\n",
       "SPLIT BLACK GRAM          5\n",
       "SUNFLOWER                 5\n",
       "MUSTARD                   5\n",
       "PIGEON PEA (TUR)          5\n",
       "Sugarcane                 5\n",
       "Copra (Milling)_Yellow    5\n",
       "SORGUM(JAWAR)             5\n",
       "Jute_Yellow               5\n",
       "COCONUT                   5\n",
       "Masur_Yellow              5\n",
       "RICE(PADDY-HUS)           5\n",
       "MAIZE                     5\n",
       "Cotton_Long Staple        5\n",
       "Name: commodity, dtype: int64"
      ]
     },
     "execution_count": 4,
     "metadata": {},
     "output_type": "execute_result"
    }
   ],
   "source": [
    "#Because SUGAR-CANE & SUGARCANE are the same \n",
    "msp_mandi['commodity'] = msp_mandi['commodity'].replace(['SUGAR-CANE', 'SUGARCANE'], 'Sugarcane')\n",
    "msp_mandi.commodity.value_counts()"
   ]
  },
  {
   "cell_type": "code",
   "execution_count": 5,
   "metadata": {},
   "outputs": [
    {
     "data": {
      "text/html": [
       "<div>\n",
       "<style scoped>\n",
       "    .dataframe tbody tr th:only-of-type {\n",
       "        vertical-align: middle;\n",
       "    }\n",
       "\n",
       "    .dataframe tbody tr th {\n",
       "        vertical-align: top;\n",
       "    }\n",
       "\n",
       "    .dataframe thead th {\n",
       "        text-align: right;\n",
       "    }\n",
       "</style>\n",
       "<table border=\"1\" class=\"dataframe\">\n",
       "  <thead>\n",
       "    <tr style=\"text-align: right;\">\n",
       "      <th></th>\n",
       "      <th>APMC</th>\n",
       "      <th>Commodity</th>\n",
       "      <th>Year</th>\n",
       "      <th>Month</th>\n",
       "      <th>arrivals_in_qtl</th>\n",
       "      <th>min_price</th>\n",
       "      <th>max_price</th>\n",
       "      <th>modal_price</th>\n",
       "      <th>date</th>\n",
       "      <th>district_name</th>\n",
       "      <th>state_name</th>\n",
       "    </tr>\n",
       "  </thead>\n",
       "  <tbody>\n",
       "    <tr>\n",
       "      <th>0</th>\n",
       "      <td>Ahmednagar</td>\n",
       "      <td>Bajri</td>\n",
       "      <td>2015</td>\n",
       "      <td>April</td>\n",
       "      <td>79</td>\n",
       "      <td>1406</td>\n",
       "      <td>1538</td>\n",
       "      <td>1463</td>\n",
       "      <td>2015-04</td>\n",
       "      <td>Ahmadnagar</td>\n",
       "      <td>Maharashtra</td>\n",
       "    </tr>\n",
       "    <tr>\n",
       "      <th>1</th>\n",
       "      <td>Ahmednagar</td>\n",
       "      <td>Bajri</td>\n",
       "      <td>2016</td>\n",
       "      <td>April</td>\n",
       "      <td>106</td>\n",
       "      <td>1788</td>\n",
       "      <td>1925</td>\n",
       "      <td>1875</td>\n",
       "      <td>2016-04</td>\n",
       "      <td>Ahmadnagar</td>\n",
       "      <td>Maharashtra</td>\n",
       "    </tr>\n",
       "    <tr>\n",
       "      <th>2</th>\n",
       "      <td>Ahmednagar</td>\n",
       "      <td>Wheat(Husked)</td>\n",
       "      <td>2015</td>\n",
       "      <td>April</td>\n",
       "      <td>1253</td>\n",
       "      <td>1572</td>\n",
       "      <td>1890</td>\n",
       "      <td>1731</td>\n",
       "      <td>2015-04</td>\n",
       "      <td>Ahmadnagar</td>\n",
       "      <td>Maharashtra</td>\n",
       "    </tr>\n",
       "    <tr>\n",
       "      <th>3</th>\n",
       "      <td>Ahmednagar</td>\n",
       "      <td>Wheat(Husked)</td>\n",
       "      <td>2016</td>\n",
       "      <td>April</td>\n",
       "      <td>387</td>\n",
       "      <td>1750</td>\n",
       "      <td>2220</td>\n",
       "      <td>1999</td>\n",
       "      <td>2016-04</td>\n",
       "      <td>Ahmadnagar</td>\n",
       "      <td>Maharashtra</td>\n",
       "    </tr>\n",
       "    <tr>\n",
       "      <th>4</th>\n",
       "      <td>Ahmednagar</td>\n",
       "      <td>Sorgum(Jawar)</td>\n",
       "      <td>2015</td>\n",
       "      <td>April</td>\n",
       "      <td>3825</td>\n",
       "      <td>1600</td>\n",
       "      <td>2200</td>\n",
       "      <td>1900</td>\n",
       "      <td>2015-04</td>\n",
       "      <td>Ahmadnagar</td>\n",
       "      <td>Maharashtra</td>\n",
       "    </tr>\n",
       "  </tbody>\n",
       "</table>\n",
       "</div>"
      ],
      "text/plain": [
       "         APMC      Commodity  Year  Month  arrivals_in_qtl  min_price  \\\n",
       "0  Ahmednagar          Bajri  2015  April               79       1406   \n",
       "1  Ahmednagar          Bajri  2016  April              106       1788   \n",
       "2  Ahmednagar  Wheat(Husked)  2015  April             1253       1572   \n",
       "3  Ahmednagar  Wheat(Husked)  2016  April              387       1750   \n",
       "4  Ahmednagar  Sorgum(Jawar)  2015  April             3825       1600   \n",
       "\n",
       "   max_price  modal_price     date district_name   state_name  \n",
       "0       1538         1463  2015-04    Ahmadnagar  Maharashtra  \n",
       "1       1925         1875  2016-04    Ahmadnagar  Maharashtra  \n",
       "2       1890         1731  2015-04    Ahmadnagar  Maharashtra  \n",
       "3       2220         1999  2016-04    Ahmadnagar  Maharashtra  \n",
       "4       2200         1900  2015-04    Ahmadnagar  Maharashtra  "
      ]
     },
     "execution_count": 5,
     "metadata": {},
     "output_type": "execute_result"
    }
   ],
   "source": [
    "#importing the monthly data\n",
    "monthly_data = pd.read_csv('Monthly_data_cmo.csv')\n",
    "monthly_data.head()"
   ]
  },
  {
   "cell_type": "code",
   "execution_count": 6,
   "metadata": {},
   "outputs": [
    {
     "name": "stdout",
     "output_type": "stream",
     "text": [
      "349\n",
      "33\n",
      "1\n"
     ]
    }
   ],
   "source": [
    "print(len(monthly_data.APMC.value_counts()))\n",
    "print(len(monthly_data.district_name.value_counts()))\n",
    "print(len(monthly_data.state_name.value_counts()))"
   ]
  },
  {
   "cell_type": "code",
   "execution_count": 7,
   "metadata": {},
   "outputs": [
    {
     "data": {
      "text/plain": [
       "Pune          6366\n",
       "Ahmadnagar    4638\n",
       "Nagpur        4527\n",
       "Solapur       4524\n",
       "Nasik         3620\n",
       "Satara        2771\n",
       "Buldhana      2669\n",
       "Amaravathi    2590\n",
       "Jalgaon       2579\n",
       "Aurangabad    2312\n",
       "Beed          1916\n",
       "Thane         1854\n",
       "Osmanabad     1737\n",
       "Kolhapur      1704\n",
       "Mumbai        1656\n",
       "Jalna         1489\n",
       "Yewatmal      1455\n",
       "Latur         1446\n",
       "Dhule         1328\n",
       "Parbhani      1312\n",
       "Chandrapur    1215\n",
       "Sangli        1131\n",
       "Akola         1084\n",
       "Nanded        1042\n",
       "Nandurbar     1001\n",
       "Wasim          964\n",
       "Hingoli        776\n",
       "Wardha         630\n",
       "Raigad         610\n",
       "Bhandara       540\n",
       "Ratnagiri      457\n",
       "Gadchiroli     360\n",
       "Gondiya        126\n",
       "Name: district_name, dtype: int64"
      ]
     },
     "execution_count": 7,
     "metadata": {},
     "output_type": "execute_result"
    }
   ],
   "source": [
    "#counting the number of APMC's\n",
    "monthly_data.district_name.value_counts()"
   ]
  },
  {
   "cell_type": "code",
   "execution_count": 9,
   "metadata": {},
   "outputs": [
    {
     "data": {
      "text/plain": [
       "Index(['APMC', 'Commodity', 'Year', 'Month', 'arrivals_in_qtl', 'min_price',\n",
       "       'max_price', 'modal_price', 'date', 'district_name', 'state_name'],\n",
       "      dtype='object')"
      ]
     },
     "execution_count": 9,
     "metadata": {},
     "output_type": "execute_result"
    }
   ],
   "source": [
    "monthly_data.columns"
   ]
  },
  {
   "cell_type": "markdown",
   "metadata": {},
   "source": []
  },
  {
   "cell_type": "code",
   "execution_count": 10,
   "metadata": {},
   "outputs": [
    {
     "data": {
      "text/plain": [
       "<seaborn.axisgrid.FacetGrid at 0x2c61d855308>"
      ]
     },
     "execution_count": 10,
     "metadata": {},
     "output_type": "execute_result"
    },
    {
     "data": {
      "image/png": "[encoded data removed]",
      "text/plain": [
       "<Figure size 506.109x360 with 1 Axes>"
      ]
     },
     "metadata": {
      "needs_background": "light"
     },
     "output_type": "display_data"
    }
   ],
   "source": [
    "#plotting the msprice per year of each commodity \n",
    "import seaborn as sns\n",
    "sns.catplot(x='year', y='msprice', hue='commodity', kind=\"bar\", data = msp_mandi)"
   ]
  },
  {
   "cell_type": "code",
   "execution_count": 11,
   "metadata": {},
   "outputs": [
    {
     "data": {
      "text/html": [
       "<div>\n",
       "<style scoped>\n",
       "    .dataframe tbody tr th:only-of-type {\n",
       "        vertical-align: middle;\n",
       "    }\n",
       "\n",
       "    .dataframe tbody tr th {\n",
       "        vertical-align: top;\n",
       "    }\n",
       "\n",
       "    .dataframe thead th {\n",
       "        text-align: right;\n",
       "    }\n",
       "</style>\n",
       "<table border=\"1\" class=\"dataframe\">\n",
       "  <thead>\n",
       "    <tr style=\"text-align: right;\">\n",
       "      <th></th>\n",
       "      <th>APMC</th>\n",
       "      <th>Commodity</th>\n",
       "      <th>Year</th>\n",
       "      <th>Month</th>\n",
       "      <th>arrivals_in_qtl</th>\n",
       "      <th>min_price</th>\n",
       "      <th>max_price</th>\n",
       "      <th>modal_price</th>\n",
       "      <th>date</th>\n",
       "    </tr>\n",
       "  </thead>\n",
       "  <tbody>\n",
       "    <tr>\n",
       "      <th>0</th>\n",
       "      <td>Ahmednagar</td>\n",
       "      <td>Bajri</td>\n",
       "      <td>2015</td>\n",
       "      <td>April</td>\n",
       "      <td>79</td>\n",
       "      <td>1406</td>\n",
       "      <td>1538</td>\n",
       "      <td>1463</td>\n",
       "      <td>2015-04</td>\n",
       "    </tr>\n",
       "    <tr>\n",
       "      <th>1</th>\n",
       "      <td>Ahmednagar</td>\n",
       "      <td>Bajri</td>\n",
       "      <td>2016</td>\n",
       "      <td>April</td>\n",
       "      <td>106</td>\n",
       "      <td>1788</td>\n",
       "      <td>1925</td>\n",
       "      <td>1875</td>\n",
       "      <td>2016-04</td>\n",
       "    </tr>\n",
       "    <tr>\n",
       "      <th>2</th>\n",
       "      <td>Ahmednagar</td>\n",
       "      <td>Wheat(Husked)</td>\n",
       "      <td>2015</td>\n",
       "      <td>April</td>\n",
       "      <td>1253</td>\n",
       "      <td>1572</td>\n",
       "      <td>1890</td>\n",
       "      <td>1731</td>\n",
       "      <td>2015-04</td>\n",
       "    </tr>\n",
       "    <tr>\n",
       "      <th>3</th>\n",
       "      <td>Ahmednagar</td>\n",
       "      <td>Wheat(Husked)</td>\n",
       "      <td>2016</td>\n",
       "      <td>April</td>\n",
       "      <td>387</td>\n",
       "      <td>1750</td>\n",
       "      <td>2220</td>\n",
       "      <td>1999</td>\n",
       "      <td>2016-04</td>\n",
       "    </tr>\n",
       "    <tr>\n",
       "      <th>4</th>\n",
       "      <td>Ahmednagar</td>\n",
       "      <td>Sorgum(Jawar)</td>\n",
       "      <td>2015</td>\n",
       "      <td>April</td>\n",
       "      <td>3825</td>\n",
       "      <td>1600</td>\n",
       "      <td>2200</td>\n",
       "      <td>1900</td>\n",
       "      <td>2015-04</td>\n",
       "    </tr>\n",
       "  </tbody>\n",
       "</table>\n",
       "</div>"
      ],
      "text/plain": [
       "         APMC      Commodity  Year  Month  arrivals_in_qtl  min_price  \\\n",
       "0  Ahmednagar          Bajri  2015  April               79       1406   \n",
       "1  Ahmednagar          Bajri  2016  April              106       1788   \n",
       "2  Ahmednagar  Wheat(Husked)  2015  April             1253       1572   \n",
       "3  Ahmednagar  Wheat(Husked)  2016  April              387       1750   \n",
       "4  Ahmednagar  Sorgum(Jawar)  2015  April             3825       1600   \n",
       "\n",
       "   max_price  modal_price     date  \n",
       "0       1538         1463  2015-04  \n",
       "1       1925         1875  2016-04  \n",
       "2       1890         1731  2015-04  \n",
       "3       2220         1999  2016-04  \n",
       "4       2200         1900  2015-04  "
      ]
     },
     "execution_count": 11,
     "metadata": {},
     "output_type": "execute_result"
    }
   ],
   "source": [
    "#removing the state_name and district name beacuse we only need APMC name\n",
    "monthly_data = monthly_data.iloc[:, 0:-2]\n",
    "monthly_data.head()"
   ]
  },
  {
   "cell_type": "code",
   "execution_count": 12,
   "metadata": {},
   "outputs": [
    {
     "data": {
      "text/html": [
       "<div>\n",
       "<style scoped>\n",
       "    .dataframe tbody tr th:only-of-type {\n",
       "        vertical-align: middle;\n",
       "    }\n",
       "\n",
       "    .dataframe tbody tr th {\n",
       "        vertical-align: top;\n",
       "    }\n",
       "\n",
       "    .dataframe thead th {\n",
       "        text-align: right;\n",
       "    }\n",
       "</style>\n",
       "<table border=\"1\" class=\"dataframe\">\n",
       "  <thead>\n",
       "    <tr style=\"text-align: right;\">\n",
       "      <th></th>\n",
       "      <th>APMC</th>\n",
       "      <th>Commodity</th>\n",
       "      <th>Year</th>\n",
       "      <th>Month</th>\n",
       "      <th>arrivals_in_qtl</th>\n",
       "      <th>min_price</th>\n",
       "      <th>max_price</th>\n",
       "      <th>modal_price</th>\n",
       "      <th>date</th>\n",
       "    </tr>\n",
       "    <tr>\n",
       "      <th>date</th>\n",
       "      <th></th>\n",
       "      <th></th>\n",
       "      <th></th>\n",
       "      <th></th>\n",
       "      <th></th>\n",
       "      <th></th>\n",
       "      <th></th>\n",
       "      <th></th>\n",
       "      <th></th>\n",
       "    </tr>\n",
       "  </thead>\n",
       "  <tbody>\n",
       "    <tr>\n",
       "      <th>2015-04</th>\n",
       "      <td>Ahmednagar</td>\n",
       "      <td>Bajri</td>\n",
       "      <td>2015</td>\n",
       "      <td>April</td>\n",
       "      <td>79</td>\n",
       "      <td>1406</td>\n",
       "      <td>1538</td>\n",
       "      <td>1463</td>\n",
       "      <td>2015-04</td>\n",
       "    </tr>\n",
       "    <tr>\n",
       "      <th>2016-04</th>\n",
       "      <td>Ahmednagar</td>\n",
       "      <td>Bajri</td>\n",
       "      <td>2016</td>\n",
       "      <td>April</td>\n",
       "      <td>106</td>\n",
       "      <td>1788</td>\n",
       "      <td>1925</td>\n",
       "      <td>1875</td>\n",
       "      <td>2016-04</td>\n",
       "    </tr>\n",
       "    <tr>\n",
       "      <th>2015-04</th>\n",
       "      <td>Ahmednagar</td>\n",
       "      <td>Wheat(Husked)</td>\n",
       "      <td>2015</td>\n",
       "      <td>April</td>\n",
       "      <td>1253</td>\n",
       "      <td>1572</td>\n",
       "      <td>1890</td>\n",
       "      <td>1731</td>\n",
       "      <td>2015-04</td>\n",
       "    </tr>\n",
       "    <tr>\n",
       "      <th>2016-04</th>\n",
       "      <td>Ahmednagar</td>\n",
       "      <td>Wheat(Husked)</td>\n",
       "      <td>2016</td>\n",
       "      <td>April</td>\n",
       "      <td>387</td>\n",
       "      <td>1750</td>\n",
       "      <td>2220</td>\n",
       "      <td>1999</td>\n",
       "      <td>2016-04</td>\n",
       "    </tr>\n",
       "    <tr>\n",
       "      <th>2015-04</th>\n",
       "      <td>Ahmednagar</td>\n",
       "      <td>Sorgum(Jawar)</td>\n",
       "      <td>2015</td>\n",
       "      <td>April</td>\n",
       "      <td>3825</td>\n",
       "      <td>1600</td>\n",
       "      <td>2200</td>\n",
       "      <td>1900</td>\n",
       "      <td>2015-04</td>\n",
       "    </tr>\n",
       "  </tbody>\n",
       "</table>\n",
       "</div>"
      ],
      "text/plain": [
       "               APMC      Commodity  Year  Month  arrivals_in_qtl  min_price  \\\n",
       "date                                                                          \n",
       "2015-04  Ahmednagar          Bajri  2015  April               79       1406   \n",
       "2016-04  Ahmednagar          Bajri  2016  April              106       1788   \n",
       "2015-04  Ahmednagar  Wheat(Husked)  2015  April             1253       1572   \n",
       "2016-04  Ahmednagar  Wheat(Husked)  2016  April              387       1750   \n",
       "2015-04  Ahmednagar  Sorgum(Jawar)  2015  April             3825       1600   \n",
       "\n",
       "         max_price  modal_price     date  \n",
       "date                                      \n",
       "2015-04       1538         1463  2015-04  \n",
       "2016-04       1925         1875  2016-04  \n",
       "2015-04       1890         1731  2015-04  \n",
       "2016-04       2220         1999  2016-04  \n",
       "2015-04       2200         1900  2015-04  "
      ]
     },
     "execution_count": 12,
     "metadata": {},
     "output_type": "execute_result"
    }
   ],
   "source": [
    "#converting the index to datetime\n",
    "monthly_data.index = monthly_data.date\n",
    "monthly_data.head()"
   ]
  },
  {
   "cell_type": "code",
   "execution_count": 13,
   "metadata": {},
   "outputs": [
    {
     "data": {
      "text/html": [
       "<div>\n",
       "<style scoped>\n",
       "    .dataframe tbody tr th:only-of-type {\n",
       "        vertical-align: middle;\n",
       "    }\n",
       "\n",
       "    .dataframe tbody tr th {\n",
       "        vertical-align: top;\n",
       "    }\n",
       "\n",
       "    .dataframe thead th {\n",
       "        text-align: right;\n",
       "    }\n",
       "</style>\n",
       "<table border=\"1\" class=\"dataframe\">\n",
       "  <thead>\n",
       "    <tr style=\"text-align: right;\">\n",
       "      <th></th>\n",
       "      <th>APMC</th>\n",
       "      <th>Commodity</th>\n",
       "      <th>Year</th>\n",
       "      <th>Month</th>\n",
       "      <th>arrivals_in_qtl</th>\n",
       "      <th>min_price</th>\n",
       "      <th>max_price</th>\n",
       "      <th>modal_price</th>\n",
       "    </tr>\n",
       "    <tr>\n",
       "      <th>date</th>\n",
       "      <th></th>\n",
       "      <th></th>\n",
       "      <th></th>\n",
       "      <th></th>\n",
       "      <th></th>\n",
       "      <th></th>\n",
       "      <th></th>\n",
       "      <th></th>\n",
       "    </tr>\n",
       "  </thead>\n",
       "  <tbody>\n",
       "    <tr>\n",
       "      <th>2015-04</th>\n",
       "      <td>Ahmednagar</td>\n",
       "      <td>Bajri</td>\n",
       "      <td>2015</td>\n",
       "      <td>April</td>\n",
       "      <td>79</td>\n",
       "      <td>1406</td>\n",
       "      <td>1538</td>\n",
       "      <td>1463</td>\n",
       "    </tr>\n",
       "    <tr>\n",
       "      <th>2016-04</th>\n",
       "      <td>Ahmednagar</td>\n",
       "      <td>Bajri</td>\n",
       "      <td>2016</td>\n",
       "      <td>April</td>\n",
       "      <td>106</td>\n",
       "      <td>1788</td>\n",
       "      <td>1925</td>\n",
       "      <td>1875</td>\n",
       "    </tr>\n",
       "    <tr>\n",
       "      <th>2015-04</th>\n",
       "      <td>Ahmednagar</td>\n",
       "      <td>Wheat(Husked)</td>\n",
       "      <td>2015</td>\n",
       "      <td>April</td>\n",
       "      <td>1253</td>\n",
       "      <td>1572</td>\n",
       "      <td>1890</td>\n",
       "      <td>1731</td>\n",
       "    </tr>\n",
       "    <tr>\n",
       "      <th>2016-04</th>\n",
       "      <td>Ahmednagar</td>\n",
       "      <td>Wheat(Husked)</td>\n",
       "      <td>2016</td>\n",
       "      <td>April</td>\n",
       "      <td>387</td>\n",
       "      <td>1750</td>\n",
       "      <td>2220</td>\n",
       "      <td>1999</td>\n",
       "    </tr>\n",
       "    <tr>\n",
       "      <th>2015-04</th>\n",
       "      <td>Ahmednagar</td>\n",
       "      <td>Sorgum(Jawar)</td>\n",
       "      <td>2015</td>\n",
       "      <td>April</td>\n",
       "      <td>3825</td>\n",
       "      <td>1600</td>\n",
       "      <td>2200</td>\n",
       "      <td>1900</td>\n",
       "    </tr>\n",
       "  </tbody>\n",
       "</table>\n",
       "</div>"
      ],
      "text/plain": [
       "               APMC      Commodity  Year  Month  arrivals_in_qtl  min_price  \\\n",
       "date                                                                          \n",
       "2015-04  Ahmednagar          Bajri  2015  April               79       1406   \n",
       "2016-04  Ahmednagar          Bajri  2016  April              106       1788   \n",
       "2015-04  Ahmednagar  Wheat(Husked)  2015  April             1253       1572   \n",
       "2016-04  Ahmednagar  Wheat(Husked)  2016  April              387       1750   \n",
       "2015-04  Ahmednagar  Sorgum(Jawar)  2015  April             3825       1600   \n",
       "\n",
       "         max_price  modal_price  \n",
       "date                             \n",
       "2015-04       1538         1463  \n",
       "2016-04       1925         1875  \n",
       "2015-04       1890         1731  \n",
       "2016-04       2220         1999  \n",
       "2015-04       2200         1900  "
      ]
     },
     "execution_count": 13,
     "metadata": {},
     "output_type": "execute_result"
    }
   ],
   "source": [
    "#removing the date, year and month column \n",
    "monthly_data = monthly_data.iloc[:, 0:-1]\n",
    "monthly_data.head()"
   ]
  },
  {
   "cell_type": "code",
   "execution_count": 14,
   "metadata": {},
   "outputs": [],
   "source": [
    "#sorting the commodities according to date \n",
    "monthly_data = monthly_data.sort_values(by = ['date'])"
   ]
  },
  {
   "cell_type": "code",
   "execution_count": 15,
   "metadata": {},
   "outputs": [],
   "source": [
    "#because \"AMBAT CHUKA\" is same as \"Ambat Chuka\"\n",
    "monthly_data['Commodity'] = monthly_data['Commodity'].replace(['AMBAT CHUKA', 'Ambat Chuka'], 'Ambat chuka')"
   ]
  },
  {
   "cell_type": "code",
   "execution_count": 16,
   "metadata": {},
   "outputs": [
    {
     "data": {
      "text/plain": [
       "Gram                3972\n",
       "Wheat(Husked)       3946\n",
       "Sorgum(Jawar)       3560\n",
       "Soybean             3545\n",
       "Pigeon Pea (Tur)    3389\n",
       "                    ... \n",
       "FIG                    1\n",
       "MALE LAMB              1\n",
       "LEAFY VEGETABLE        1\n",
       "BUFFALO                1\n",
       "BHAGAR/VARI            1\n",
       "Name: Commodity, Length: 351, dtype: int64"
      ]
     },
     "execution_count": 16,
     "metadata": {},
     "output_type": "execute_result"
    }
   ],
   "source": [
    "monthly_data.Commodity.value_counts()"
   ]
  },
  {
   "cell_type": "code",
   "execution_count": 17,
   "metadata": {},
   "outputs": [
    {
     "data": {
      "image/png": "[encoded data removed]",
      "text/plain": [
       "<Figure size 432x288 with 1 Axes>"
      ]
     },
     "metadata": {
      "needs_background": "light"
     },
     "output_type": "display_data"
    },
    {
     "data": {
      "image/png": "[encoded data removed]",
      "text/plain": [
       "<Figure size 432x288 with 1 Axes>"
      ]
     },
     "metadata": {
      "needs_background": "light"
     },
     "output_type": "display_data"
    },
    {
     "data": {
      "image/png": "[encoded data removed]",
      "text/plain": [
       "<Figure size 432x288 with 1 Axes>"
      ]
     },
     "metadata": {
      "needs_background": "light"
     },
     "output_type": "display_data"
    }
   ],
   "source": [
    "#plotting scatter_plots of the following variables: min_price,max_price and modal_price to find OUTLIARS\n",
    "ax1 = monthly_data.sort_values(by=['Commodity']).plot.scatter(x = 'min_price', y = 'max_price')\n",
    "ax2 = monthly_data.sort_values(by=['Commodity']).plot.scatter(x = 'min_price', y = 'modal_price')\n",
    "ax3 = monthly_data.sort_values(by=['Commodity']).plot.scatter(x = 'modal_price', y = 'max_price')"
   ]
  },
  {
   "cell_type": "code",
   "execution_count": 18,
   "metadata": {},
   "outputs": [
    {
     "data": {
      "text/plain": [
       "(62426, 8)"
      ]
     },
     "execution_count": 18,
     "metadata": {},
     "output_type": "execute_result"
    }
   ],
   "source": [
    "#REMOVING THE OUTLIARS ON THE BASIS OF ABOVE SCATTERPLOTS \n",
    "monthly_data_cleaned = monthly_data[(monthly_data.min_price <= 500000) & (monthly_data.max_price <= 1400000)]\n",
    "monthly_data_cleaned.shape"
   ]
  },
  {
   "cell_type": "code",
   "execution_count": 19,
   "metadata": {},
   "outputs": [
    {
     "data": {
      "text/plain": [
       "(62429, 8)"
      ]
     },
     "execution_count": 19,
     "metadata": {},
     "output_type": "execute_result"
    }
   ],
   "source": [
    "monthly_data.shape"
   ]
  },
  {
   "cell_type": "code",
   "execution_count": 20,
   "metadata": {},
   "outputs": [
    {
     "data": {
      "image/png": "[encoded data removed]",
      "text/plain": [
       "<Figure size 432x288 with 1 Axes>"
      ]
     },
     "metadata": {
      "needs_background": "light"
     },
     "output_type": "display_data"
    },
    {
     "data": {
      "image/png": "[encoded data removed]",
      "text/plain": [
       "<Figure size 432x288 with 1 Axes>"
      ]
     },
     "metadata": {
      "needs_background": "light"
     },
     "output_type": "display_data"
    },
    {
     "data": {
      "image/png": "[encoded data removed]",
      "text/plain": [
       "<Figure size 432x288 with 1 Axes>"
      ]
     },
     "metadata": {
      "needs_background": "light"
     },
     "output_type": "display_data"
    }
   ],
   "source": [
    "#Plotting the sactterplots after removing outliars\n",
    "ax1 = monthly_data_cleaned.sort_values(by=['Commodity']).plot.scatter(x = 'min_price', y = 'max_price')\n",
    "ax2 = monthly_data_cleaned.sort_values(by=['Commodity']).plot.scatter(x = 'min_price', y = 'modal_price')\n",
    "ax3 = monthly_data_cleaned.sort_values(by=['Commodity']).plot.scatter(x = 'modal_price', y = 'max_price')\n"
   ]
  },
  {
   "cell_type": "code",
   "execution_count": 21,
   "metadata": {},
   "outputs": [
    {
     "data": {
      "text/html": [
       "<div>\n",
       "<style scoped>\n",
       "    .dataframe tbody tr th:only-of-type {\n",
       "        vertical-align: middle;\n",
       "    }\n",
       "\n",
       "    .dataframe tbody tr th {\n",
       "        vertical-align: top;\n",
       "    }\n",
       "\n",
       "    .dataframe thead th {\n",
       "        text-align: right;\n",
       "    }\n",
       "</style>\n",
       "<table border=\"1\" class=\"dataframe\">\n",
       "  <thead>\n",
       "    <tr style=\"text-align: right;\">\n",
       "      <th></th>\n",
       "      <th>APMC</th>\n",
       "      <th>Commodity</th>\n",
       "      <th>Year</th>\n",
       "      <th>Month</th>\n",
       "      <th>arrivals_in_qtl</th>\n",
       "      <th>min_price</th>\n",
       "      <th>max_price</th>\n",
       "      <th>modal_price</th>\n",
       "    </tr>\n",
       "    <tr>\n",
       "      <th>date</th>\n",
       "      <th></th>\n",
       "      <th></th>\n",
       "      <th></th>\n",
       "      <th></th>\n",
       "      <th></th>\n",
       "      <th></th>\n",
       "      <th></th>\n",
       "      <th></th>\n",
       "    </tr>\n",
       "  </thead>\n",
       "  <tbody>\n",
       "    <tr>\n",
       "      <th>2014-09</th>\n",
       "      <td>Kurdwadi</td>\n",
       "      <td>Sorgum(Jawar)</td>\n",
       "      <td>2014</td>\n",
       "      <td>September</td>\n",
       "      <td>454</td>\n",
       "      <td>1353</td>\n",
       "      <td>2610</td>\n",
       "      <td>1981</td>\n",
       "    </tr>\n",
       "    <tr>\n",
       "      <th>2014-09</th>\n",
       "      <td>Satara</td>\n",
       "      <td>Ladies Finger</td>\n",
       "      <td>2014</td>\n",
       "      <td>September</td>\n",
       "      <td>128</td>\n",
       "      <td>2435</td>\n",
       "      <td>3261</td>\n",
       "      <td>2848</td>\n",
       "    </tr>\n",
       "    <tr>\n",
       "      <th>2014-09</th>\n",
       "      <td>Satara</td>\n",
       "      <td>Potato</td>\n",
       "      <td>2014</td>\n",
       "      <td>September</td>\n",
       "      <td>2988</td>\n",
       "      <td>2175</td>\n",
       "      <td>2488</td>\n",
       "      <td>2331</td>\n",
       "    </tr>\n",
       "    <tr>\n",
       "      <th>2014-09</th>\n",
       "      <td>Satara</td>\n",
       "      <td>Ginger (Fresh)</td>\n",
       "      <td>2014</td>\n",
       "      <td>September</td>\n",
       "      <td>199</td>\n",
       "      <td>3438</td>\n",
       "      <td>4813</td>\n",
       "      <td>4125</td>\n",
       "    </tr>\n",
       "    <tr>\n",
       "      <th>2014-09</th>\n",
       "      <td>Satara</td>\n",
       "      <td>Ground Nut Pods (Dry)</td>\n",
       "      <td>2014</td>\n",
       "      <td>September</td>\n",
       "      <td>1</td>\n",
       "      <td>3000</td>\n",
       "      <td>4000</td>\n",
       "      <td>3500</td>\n",
       "    </tr>\n",
       "  </tbody>\n",
       "</table>\n",
       "</div>"
      ],
      "text/plain": [
       "             APMC              Commodity  Year      Month  arrivals_in_qtl  \\\n",
       "date                                                                         \n",
       "2014-09  Kurdwadi          Sorgum(Jawar)  2014  September              454   \n",
       "2014-09    Satara          Ladies Finger  2014  September              128   \n",
       "2014-09    Satara                 Potato  2014  September             2988   \n",
       "2014-09    Satara         Ginger (Fresh)  2014  September              199   \n",
       "2014-09    Satara  Ground Nut Pods (Dry)  2014  September                1   \n",
       "\n",
       "         min_price  max_price  modal_price  \n",
       "date                                        \n",
       "2014-09       1353       2610         1981  \n",
       "2014-09       2435       3261         2848  \n",
       "2014-09       2175       2488         2331  \n",
       "2014-09       3438       4813         4125  \n",
       "2014-09       3000       4000         3500  "
      ]
     },
     "execution_count": 21,
     "metadata": {},
     "output_type": "execute_result"
    }
   ],
   "source": [
    "monthly_data.head()"
   ]
  },
  {
   "cell_type": "code",
   "execution_count": 22,
   "metadata": {},
   "outputs": [],
   "source": [
    "#exporting the required DataFrame into a new CSV file\n",
    "monthly_data_cleaned.to_csv('monthly_data_cleaned.csv')"
   ]
  },
  {
   "cell_type": "code",
   "execution_count": null,
   "metadata": {},
   "outputs": [],
   "source": []
  }
 ],
 "metadata": {
  "kernelspec": {
   "display_name": "Python 3",
   "language": "python",
   "name": "python3"
  },
  "language_info": {
   "codemirror_mode": {
    "name": "ipython",
    "version": 3
   },
   "file_extension": ".py",
   "mimetype": "text/x-python",
   "name": "python",
   "nbconvert_exporter": "python",
   "pygments_lexer": "ipython3",
   "version": "3.7.6"
  }
 },
 "nbformat": 4,
 "nbformat_minor": 2
}
