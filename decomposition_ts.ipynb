{
 "cells": [
  {
   "cell_type": "code",
   "execution_count": 33,
   "metadata": {},
   "outputs": [],
   "source": [
    "#Importing the necessary libraries\n",
    "\n",
    "import numpy as np\n",
    "import pandas as pd\n",
    "import matplotlib.pyplot as plt\n",
    "\n",
    "%matplotlib inline"
   ]
  },
  {
   "cell_type": "code",
   "execution_count": 34,
   "metadata": {},
   "outputs": [
    {
     "data": {
      "text/html": [
       "<div>\n",
       "<style scoped>\n",
       "    .dataframe tbody tr th:only-of-type {\n",
       "        vertical-align: middle;\n",
       "    }\n",
       "\n",
       "    .dataframe tbody tr th {\n",
       "        vertical-align: top;\n",
       "    }\n",
       "\n",
       "    .dataframe thead th {\n",
       "        text-align: right;\n",
       "    }\n",
       "</style>\n",
       "<table border=\"1\" class=\"dataframe\">\n",
       "  <thead>\n",
       "    <tr style=\"text-align: right;\">\n",
       "      <th></th>\n",
       "      <th>APMC</th>\n",
       "      <th>Commodity</th>\n",
       "      <th>Year</th>\n",
       "      <th>Month</th>\n",
       "      <th>arrivals_in_qtl</th>\n",
       "      <th>min_price</th>\n",
       "      <th>max_price</th>\n",
       "      <th>modal_price</th>\n",
       "    </tr>\n",
       "    <tr>\n",
       "      <th>date</th>\n",
       "      <th></th>\n",
       "      <th></th>\n",
       "      <th></th>\n",
       "      <th></th>\n",
       "      <th></th>\n",
       "      <th></th>\n",
       "      <th></th>\n",
       "      <th></th>\n",
       "    </tr>\n",
       "  </thead>\n",
       "  <tbody>\n",
       "    <tr>\n",
       "      <th>2014-09-01</th>\n",
       "      <td>Kurdwadi</td>\n",
       "      <td>sorgum(jawar)</td>\n",
       "      <td>2014</td>\n",
       "      <td>September</td>\n",
       "      <td>454</td>\n",
       "      <td>1353</td>\n",
       "      <td>2610</td>\n",
       "      <td>1981</td>\n",
       "    </tr>\n",
       "    <tr>\n",
       "      <th>2014-09-01</th>\n",
       "      <td>Satara</td>\n",
       "      <td>ladies finger</td>\n",
       "      <td>2014</td>\n",
       "      <td>September</td>\n",
       "      <td>128</td>\n",
       "      <td>2435</td>\n",
       "      <td>3261</td>\n",
       "      <td>2848</td>\n",
       "    </tr>\n",
       "    <tr>\n",
       "      <th>2014-09-01</th>\n",
       "      <td>Satara</td>\n",
       "      <td>potato</td>\n",
       "      <td>2014</td>\n",
       "      <td>September</td>\n",
       "      <td>2988</td>\n",
       "      <td>2175</td>\n",
       "      <td>2488</td>\n",
       "      <td>2331</td>\n",
       "    </tr>\n",
       "    <tr>\n",
       "      <th>2014-09-01</th>\n",
       "      <td>Satara</td>\n",
       "      <td>ginger (fresh)</td>\n",
       "      <td>2014</td>\n",
       "      <td>September</td>\n",
       "      <td>199</td>\n",
       "      <td>3438</td>\n",
       "      <td>4813</td>\n",
       "      <td>4125</td>\n",
       "    </tr>\n",
       "    <tr>\n",
       "      <th>2014-09-01</th>\n",
       "      <td>Satara</td>\n",
       "      <td>ground nut pods (dry)</td>\n",
       "      <td>2014</td>\n",
       "      <td>September</td>\n",
       "      <td>1</td>\n",
       "      <td>3000</td>\n",
       "      <td>4000</td>\n",
       "      <td>3500</td>\n",
       "    </tr>\n",
       "  </tbody>\n",
       "</table>\n",
       "</div>"
      ],
      "text/plain": [
       "                APMC              Commodity  Year      Month  arrivals_in_qtl  \\\n",
       "date                                                                            \n",
       "2014-09-01  Kurdwadi          sorgum(jawar)  2014  September              454   \n",
       "2014-09-01    Satara          ladies finger  2014  September              128   \n",
       "2014-09-01    Satara                 potato  2014  September             2988   \n",
       "2014-09-01    Satara         ginger (fresh)  2014  September              199   \n",
       "2014-09-01    Satara  ground nut pods (dry)  2014  September                1   \n",
       "\n",
       "            min_price  max_price  modal_price  \n",
       "date                                           \n",
       "2014-09-01       1353       2610         1981  \n",
       "2014-09-01       2435       3261         2848  \n",
       "2014-09-01       2175       2488         2331  \n",
       "2014-09-01       3438       4813         4125  \n",
       "2014-09-01       3000       4000         3500  "
      ]
     },
     "execution_count": 34,
     "metadata": {},
     "output_type": "execute_result"
    }
   ],
   "source": [
    "#Importing the \"monthly_data_cleaned.csv\" which was made at the end of  outliar detection file\n",
    "\n",
    "monthly_data = pd.read_csv('monthly_data_cleaned.csv', index_col = 'date',infer_datetime_format=True)\n",
    "monthly_data.index = pd.to_datetime(monthly_data.index)\n",
    "monthly_data.Commodity = monthly_data.Commodity.str.lower()\n",
    "monthly_data.head()"
   ]
  },
  {
   "cell_type": "markdown",
   "metadata": {},
   "source": []
  },
  {
   "cell_type": "code",
   "execution_count": 35,
   "metadata": {},
   "outputs": [
    {
     "data": {
      "text/plain": [
       "DatetimeIndex(['2014-09-01', '2014-09-01', '2014-09-01', '2014-09-01',\n",
       "               '2014-09-01', '2014-09-01', '2014-09-01', '2014-09-01',\n",
       "               '2014-09-01', '2014-09-01',\n",
       "               ...\n",
       "               '2016-11-01', '2016-11-01', '2016-11-01', '2016-11-01',\n",
       "               '2016-11-01', '2016-11-01', '2016-11-01', '2016-11-01',\n",
       "               '2016-11-01', '2016-11-01'],\n",
       "              dtype='datetime64[ns]', name='date', length=62426, freq=None)"
      ]
     },
     "execution_count": 35,
     "metadata": {},
     "output_type": "execute_result"
    }
   ],
   "source": [
    "monthly_data.index"
   ]
  },
  {
   "cell_type": "code",
   "execution_count": 37,
   "metadata": {},
   "outputs": [],
   "source": [
    "#This is a function which will identify the type of seasonality and will apply seasonal decompositon\n",
    "\n",
    "import statsmodels.api as sm\n",
    "from statsmodels.tsa.stattools import acf\n",
    "def identify_seasonality(apmc, commodity):\n",
    "    timeseries = monthly_data[(monthly_data.APMC == apmc) & (monthly_data.Commodity == commodity)].modal_price\n",
    "    #print(timeseries)\n",
    "    #timeseries.dropna()\n",
    "    \n",
    "    #timeseries.astype('float64')\n",
    "    \n",
    "    decomposition_add = sm.tsa.seasonal_decompose(timeseries, model= 'additive')\n",
    "    decomposition_mult = sm.tsa.seasonal_decompose(timeseries, model= 'multiplicative')\n",
    "\n",
    "    resid_add = decomposition_add.resid\n",
    "    resid_add = resid_add.dropna().values\n",
    "\n",
    "    resid_mult = decomposition_mult.resid\n",
    "    resid_mult = resid_mult.dropna().values\n",
    "\n",
    "    additive_acf = acf(resid_add)\n",
    "    multiplicative_acf = acf(resid_mult)\n",
    "\n",
    "    if additive_acf.all() < multiplicative_acf.all():\n",
    "        season_type = \"additive\"\n",
    "    else:\n",
    "        season_type = \"multiplicative\"\n",
    "    print(\"This is a/an \" + season_type  + \" type seasonality.\")\n",
    "    decomposition = sm.tsa.seasonal_decompose(timeseries, model= season_type)\n",
    "    decomposition.plot()"
   ]
  },
  {
   "cell_type": "code",
   "execution_count": 38,
   "metadata": {},
   "outputs": [
    {
     "name": "stdout",
     "output_type": "stream",
     "text": [
      "Enter an APMC: Satara\n",
      "Enter a relevant commodity: potato\n",
      "This is a/an additive type seasonality.\n"
     ]
    },
    {
     "data": {
      "image/png": "[encoded data removed]",
      "text/plain": [
       "<Figure size 432x288 with 4 Axes>"
      ]
     },
     "metadata": {
      "needs_background": "light"
     },
     "output_type": "display_data"
    }
   ],
   "source": [
    "#Enter your commodity and APMC\n",
    "\n",
    "apmc = input(\"Enter an APMC: \")\n",
    "commodity = input(\"Enter a relevant commodity: \")\n",
    "identify_seasonality(apmc, commodity)"
   ]
  },
  {
   "cell_type": "code",
   "execution_count": 39,
   "metadata": {},
   "outputs": [],
   "source": [
    "# This function will deseasonalize the timeseries \n",
    "\n",
    "def deseasonalise(apmc, commodity):\n",
    "    timeseries = monthly_data[(monthly_data.APMC == apmc) & (monthly_data.Commodity == commodity)].modal_price\n",
    "    #timeseries = pd.to_datetime(timeseries)\n",
    "    decomposition_add = sm.tsa.seasonal_decompose(timeseries, freq= 1,model= 'additive')\n",
    "    decomposition_mult = sm.tsa.seasonal_decompose(timeseries, freq=1,model= 'multiplicative')\n",
    "\n",
    "    resid_add = decomposition_add.resid\n",
    "    resid_add = resid_add.dropna().values\n",
    "\n",
    "    resid_mult = decomposition_mult.resid\n",
    "    resid_mult = resid_mult.dropna().values\n",
    "\n",
    "    additive_acf = acf(resid_add)\n",
    "    multiplicative_acf = acf(resid_mult)\n",
    "\n",
    "    if additive_acf.all() < multiplicative_acf.all():\n",
    "        season_type = \"additive\"\n",
    "    else:\n",
    "        season_type = \"multiplicative\"\n",
    "    print(\"This is a/an \" + season_type  + \" type seasonality.\")\n",
    "    decomposition = sm.tsa.seasonal_decompose(timeseries, model= season_type)\n",
    "    raw = decomposition.observed\n",
    "    deseasonalised = decomposition.trend\n",
    "    return raw, deseasonalised"
   ]
  },
  {
   "cell_type": "code",
   "execution_count": 40,
   "metadata": {},
   "outputs": [
    {
     "name": "stdout",
     "output_type": "stream",
     "text": [
      "Enter an APMC: Satara\n",
      "Enter a relevant commodity: potato\n",
      "This is a/an multiplicative type seasonality.\n"
     ]
    },
    {
     "data": {
      "text/plain": [
       "<matplotlib.legend.Legend at 0x1e667276fc8>"
      ]
     },
     "execution_count": 40,
     "metadata": {},
     "output_type": "execute_result"
    },
    {
     "data": {
      "image/png": "[encoded data removed]",
      "text/plain": [
       "<Figure size 432x288 with 1 Axes>"
      ]
     },
     "metadata": {
      "needs_background": "light"
     },
     "output_type": "display_data"
    }
   ],
   "source": [
    "apmc = input(\"Enter an APMC: \")\n",
    "commodity = input(\"Enter a relevant commodity: \")\n",
    "raw, deseasonalised = deseasonalise(apmc, commodity)\n",
    "plt.plot(raw, label = 'raw')\n",
    "plt.plot(deseasonalised, label = 'deseasonalised')\n",
    "plt.legend(loc = 'best')"
   ]
  },
  {
   "cell_type": "code",
   "execution_count": null,
   "metadata": {},
   "outputs": [],
   "source": []
  }
 ],
 "metadata": {
  "kernelspec": {
   "display_name": "Python 3",
   "language": "python",
   "name": "python3"
  },
  "language_info": {
   "codemirror_mode": {
    "name": "ipython",
    "version": 3
   },
   "file_extension": ".py",
   "mimetype": "text/x-python",
   "name": "python",
   "nbconvert_exporter": "python",
   "pygments_lexer": "ipython3",
   "version": "3.7.6"
  }
 },
 "nbformat": 4,
 "nbformat_minor": 2
}
